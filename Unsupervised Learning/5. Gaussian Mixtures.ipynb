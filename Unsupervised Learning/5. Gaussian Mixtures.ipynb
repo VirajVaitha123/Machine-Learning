{
 "cells": [
  {
   "cell_type": "markdown",
   "metadata": {},
   "source": [
    "## Gaussian Mixtures\n",
    "\n",
    "GMM is a probabilistic model.\n",
    "- Assumes instances were generated from a mixture of several Gaussian distributions (paramters unknown)\n",
    "- Those generated from the same Gaussian Distrubution form their own cluster\n",
    "- Typically are ellipsoid (ellipsoidal shape, size, density and orientation)\n",
    "\n",
    "You don't know the paramters or the mixture the ellipsoid is from."
   ]
  },
  {
   "cell_type": "code",
   "execution_count": null,
   "metadata": {},
   "outputs": [],
   "source": []
  }
 ],
 "metadata": {
  "kernelspec": {
   "display_name": "Python 3",
   "language": "python",
   "name": "python3"
  },
  "language_info": {
   "codemirror_mode": {
    "name": "ipython",
    "version": 3
   },
   "file_extension": ".py",
   "mimetype": "text/x-python",
   "name": "python",
   "nbconvert_exporter": "python",
   "pygments_lexer": "ipython3",
   "version": "3.7.6"
  }
 },
 "nbformat": 4,
 "nbformat_minor": 2
}
