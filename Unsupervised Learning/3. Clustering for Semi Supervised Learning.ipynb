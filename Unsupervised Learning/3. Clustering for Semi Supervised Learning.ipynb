{
 "cells": [
  {
   "cell_type": "markdown",
   "metadata": {},
   "source": [
    "## 3. Clustering for Semi Supervised Learning - Label Propogation <br>\n",
    "<br>\n",
    "<br>\n",
    "So far we have managed to output clusters (hard clustering) and use soft clusters (distance from each cluster) as a preprocessing step to reduce dimensionality and improve performance. Now we will look at Clustering for Semi Supervised Learning which allows us to label our entire dataset by only labelling a small proportion of them manually.\n",
    "\n",
    "<b> Introduction </b> <br>\n",
    "Supervised learning is great when we have labelled data. Unfortunately most data we come to is unlabelled. We have already seen how unsupervised learning techniques are powerful ways to interpret unlabelled data. It can also be used to quickly label your data. This is semi supervised learning<br>\n",
    "\n",
    "The term \"Semi\" supervised learning means there will be some labelling of instances, which is propogated throughout the remaining dataset. This can be extremely useful when we want to use a supervised technique and need to label instances.<br>\n",
    "\n",
    "<b> Logic </b> <br>\n",
    "\n",
    "The logic goes as follows:\n",
    "- Find a number of representative cases (Defined by k, the number of clusters) <br>\n",
    "\n",
    "In this notebook we work with images. Therefore if we set k to 50, we will find the distance from each of the 50 clusters. Each cluster represents a commonly found image in the huge dataset. This is soft clustering as seen previously\n",
    "-  Find the centroids <br>\n",
    "\n",
    "For each column (cluster), we will take the image that is closest to that cluster center (min value). Now we have one image that is representative of each cluster. \n",
    "- Manually label <br>\n",
    "\n",
    "We manually label the 50 instances. Therefore we must output the images to do this. Once we have labelled the images we can automate the labelling of the remaining dataset!\n",
    "- Automatic labelling <br>\n",
    "We will say \" Give all images in cluster 1, the same label as the centroid.\" Now we have taken the representative image and labelled ALL the images in the cluster.\n"
   ]
  },
  {
   "cell_type": "markdown",
   "metadata": {},
   "source": [
    "#### 1. Import Relevant Packages"
   ]
  },
  {
   "cell_type": "code",
   "execution_count": 50,
   "metadata": {},
   "outputs": [],
   "source": [
    "from sklearn.datasets import load_digits\n",
    "from sklearn.cluster import KMeans\n",
    "from sklearn.model_selection import train_test_split\n",
    "import numpy as np\n",
    "import matplotlib.pyplot as plt"
   ]
  },
  {
   "cell_type": "markdown",
   "metadata": {},
   "source": [
    "#### 2. Import Data"
   ]
  },
  {
   "cell_type": "code",
   "execution_count": 51,
   "metadata": {},
   "outputs": [],
   "source": [
    "X_digits , y_digits = load_digits(return_X_y = True)"
   ]
  },
  {
   "cell_type": "code",
   "execution_count": 52,
   "metadata": {},
   "outputs": [
    {
     "data": {
      "text/plain": [
       "(1797, 64)"
      ]
     },
     "execution_count": 52,
     "metadata": {},
     "output_type": "execute_result"
    }
   ],
   "source": [
    "X_digits.shape"
   ]
  },
  {
   "cell_type": "markdown",
   "metadata": {},
   "source": [
    "#### 3. Split into Training and Test Set"
   ]
  },
  {
   "cell_type": "code",
   "execution_count": 53,
   "metadata": {},
   "outputs": [],
   "source": [
    "X_train, X_test, y_train, y_test = train_test_split(X_digits, y_digits, random_state = 42)"
   ]
  },
  {
   "cell_type": "markdown",
   "metadata": {},
   "source": [
    "#### 4. Finding Representative Images <br>\n",
    "\n",
    "We have soft clustered our training dataset.\n",
    "\n",
    "Here we will use clustering to find 50 representative images. If we find the value closest to the centroid/the centroid for each cluster we will have 50 images that strongly resemble that cluster."
   ]
  },
  {
   "cell_type": "code",
   "execution_count": 54,
   "metadata": {},
   "outputs": [
    {
     "data": {
      "text/plain": [
       "(1347, 64)"
      ]
     },
     "execution_count": 54,
     "metadata": {},
     "output_type": "execute_result"
    }
   ],
   "source": [
    "X_train.shape"
   ]
  },
  {
   "cell_type": "code",
   "execution_count": 55,
   "metadata": {},
   "outputs": [],
   "source": [
    "k = 50\n",
    "kmeans = KMeans(n_clusters = k,  random_state=42)\n",
    "X_digits_dist = kmeans.fit_transform(X_train)                   "
   ]
  },
  {
   "cell_type": "code",
   "execution_count": 56,
   "metadata": {},
   "outputs": [
    {
     "data": {
      "text/plain": [
       "(1347, 50)"
      ]
     },
     "execution_count": 56,
     "metadata": {},
     "output_type": "execute_result"
    }
   ],
   "source": [
    "X_digits_dist.shape               #We have 50 columns(clusters) and 1347 images in the trainset\n",
    "                                  #each column represents how close that image is each cluster\n",
    "                                  "
   ]
  },
  {
   "cell_type": "markdown",
   "metadata": {},
   "source": [
    "Below we will find the images that are closest to the cluster center (centroids). These are the most represetantive images of each of the 50 clusters (we specified 50 clusters, we could've done 60 or 70 etc..)"
   ]
  },
  {
   "cell_type": "code",
   "execution_count": 57,
   "metadata": {},
   "outputs": [],
   "source": [
    "representative_digits_idx = np.argmin(X_digits_dist, axis = 0)         #np.argmin returns the index position of the lowest value each column\n",
    "                                                                       #Since we specificed axis = 0 we will get the lowest value per column\n",
    "                                                                       #Each column is a cluster so we should have 50 values at the end."
   ]
  },
  {
   "cell_type": "code",
   "execution_count": 58,
   "metadata": {},
   "outputs": [
    {
     "data": {
      "text/plain": [
       "array([1022, 1312,  535,  817,  704,   74,  175,  407,  753,  589,  841,\n",
       "        194,  702,  737,  598,  481,   50,  937,  114,  159, 1056,  891,\n",
       "        577, 1005,  731,  256, 1311,  205,   73, 1267, 1290,  325, 1343,\n",
       "        357,   26,  559,  159,  137, 1057, 1194, 1235,  648,  525,  715,\n",
       "        795,  771,  498, 1050,  855,  151], dtype=int64)"
      ]
     },
     "execution_count": 58,
     "metadata": {},
     "output_type": "execute_result"
    }
   ],
   "source": [
    "representative_digits_idx"
   ]
  },
  {
   "cell_type": "markdown",
   "metadata": {},
   "source": [
    "We use that list of index positions to extract all of the images we want"
   ]
  },
  {
   "cell_type": "code",
   "execution_count": 59,
   "metadata": {},
   "outputs": [],
   "source": [
    "X_Representative_Images = X_train[representative_digits_idx]"
   ]
  },
  {
   "cell_type": "code",
   "execution_count": 60,
   "metadata": {},
   "outputs": [
    {
     "data": {
      "text/plain": [
       "(50, 64)"
      ]
     },
     "execution_count": 60,
     "metadata": {},
     "output_type": "execute_result"
    }
   ],
   "source": [
    "X_Representative_Images.shape #As expected, 50 images with 64 columns. Each column is a pixel that can be reshaped to 8x8"
   ]
  },
  {
   "cell_type": "code",
   "execution_count": 61,
   "metadata": {},
   "outputs": [],
   "source": [
    "X_Representative_ImagesFinal = X_Representative_Images"
   ]
  },
  {
   "cell_type": "code",
   "execution_count": 62,
   "metadata": {},
   "outputs": [
    {
     "data": {
      "image/png": "[encoded data removed]",
      "text/plain": [
       "<Figure size 576x144 with 50 Axes>"
      ]
     },
     "metadata": {
      "needs_background": "light"
     },
     "output_type": "display_data"
    }
   ],
   "source": [
    "plt.figure(figsize=(8, 2))\n",
    "for index, X_Representative_ImagesFinal in enumerate(X_Representative_ImagesFinal):\n",
    "    plt.subplot(k // 10, 10, index + 1)                                 #k//10 = 5 rows, 10 columns, and index+1 is for the order.\n",
    "    plt.imshow(X_Representative_ImagesFinal.reshape(8, 8), cmap=\"binary\",interpolation=\"bilinear\")\n",
    "    plt.axis('off')\n",
    "\n",
    "plt.show()"
   ]
  },
  {
   "cell_type": "markdown",
   "metadata": {},
   "source": [
    "#### 5. Manually label those 50 Images\n",
    "Remember this is semi supervised learning, meaning we must manually label some images. By finding 50 representative images we done already done a good job instead of randomly labelling images in the dataset."
   ]
  },
  {
   "cell_type": "code",
   "execution_count": 63,
   "metadata": {},
   "outputs": [],
   "source": [
    "y_representative_digits = np.array([4,8,0,6,8,3,7,7,9,2,\n",
    "                                    5,5,8,5,2,1,2,5,6,3,\n",
    "                                    1,6,9,0,8,3,0,7,4,1,\n",
    "                                    6,5,2,4,1,8,6,3,9,2,\n",
    "                                    4,2,9,4,7,6,2,3,1,9])"
   ]
  },
  {
   "cell_type": "code",
   "execution_count": 64,
   "metadata": {},
   "outputs": [
    {
     "data": {
      "text/plain": [
       "(50,)"
      ]
     },
     "execution_count": 64,
     "metadata": {},
     "output_type": "execute_result"
    }
   ],
   "source": [
    "y_representative_digits.shape"
   ]
  },
  {
   "cell_type": "markdown",
   "metadata": {},
   "source": [
    "#### 5. Benchmark Model\n",
    "Let's see how the model performs when we train this on random 50 images from the train set"
   ]
  },
  {
   "cell_type": "code",
   "execution_count": 65,
   "metadata": {},
   "outputs": [
    {
     "data": {
      "text/plain": [
       "0.8266666666666667"
      ]
     },
     "execution_count": 65,
     "metadata": {},
     "output_type": "execute_result"
    }
   ],
   "source": [
    "from sklearn.linear_model import LogisticRegression\n",
    "log_regbm = LogisticRegression(random_state =42, \n",
    "                               multi_class = \"auto\",\n",
    "                               solver ='liblinear')\n",
    "\n",
    "\n",
    "log_regbm.fit(X_train[:50], y_train[:50])\n",
    "log_regbm.score(X_test,y_test)"
   ]
  },
  {
   "cell_type": "markdown",
   "metadata": {},
   "source": [
    "#### 6. Representative Model Score \n",
    "Let's see how the model performs when we train this on random 50 images from the train set"
   ]
  },
  {
   "cell_type": "code",
   "execution_count": 66,
   "metadata": {},
   "outputs": [
    {
     "data": {
      "text/plain": [
       "0.14888888888888888"
      ]
     },
     "execution_count": 66,
     "metadata": {},
     "output_type": "execute_result"
    }
   ],
   "source": [
    "log_reg = LogisticRegression(random_state =42, \n",
    "                               multi_class = \"auto\",\n",
    "                               solver ='liblinear')\n",
    "\n",
    "\n",
    "log_reg.fit(X_Representative_Images, y_representative_digits)\n",
    "log_reg.score(X_test, y_test)\n"
   ]
  },
  {
   "cell_type": "markdown",
   "metadata": {},
   "source": [
    "We can actually take this way further:\n",
    "- Propogate the labels to the remaining data set (Label based on cluster and the image we already labelled)\n",
    "- Remove the ones from the cluster boundary (These are likely to be labelled incorrectly remove labelled images that are close to boundary)"
   ]
  },
  {
   "cell_type": "code",
   "execution_count": 67,
   "metadata": {},
   "outputs": [
    {
     "data": {
      "text/plain": [
       "array([13, 14, 26, ..., 39,  4, 10])"
      ]
     },
     "execution_count": 67,
     "metadata": {},
     "output_type": "execute_result"
    }
   ],
   "source": [
    "kmeans.labels_"
   ]
  },
  {
   "cell_type": "markdown",
   "metadata": {},
   "source": [
    "#### 7. Propogate the Labels to the rest of the data set\n",
    "\n",
    "This improved the accuracy up to 89%!"
   ]
  },
  {
   "cell_type": "code",
   "execution_count": 68,
   "metadata": {},
   "outputs": [],
   "source": [
    "y_train_propogated = np.empty(len(X_train), dtype =np.int32)                #Empty array size of the X_train of type np.int32\n",
    "\n",
    "for i in range(k):\n",
    "    y_train_propogated[kmeans.labels_ == i] = y_representative_digits[i]    "
   ]
  },
  {
   "cell_type": "code",
   "execution_count": 69,
   "metadata": {},
   "outputs": [
    {
     "data": {
      "text/plain": [
       "0.19555555555555557"
      ]
     },
     "execution_count": 69,
     "metadata": {},
     "output_type": "execute_result"
    }
   ],
   "source": [
    "log_reg = LogisticRegression(multi_class=\"ovr\", solver=\"lbfgs\", max_iter=5000, random_state=42)\n",
    "log_reg.fit(X_train, y_train_propogated)\n",
    "log_reg.score(X_test, y_test)"
   ]
  },
  {
   "cell_type": "markdown",
   "metadata": {},
   "source": [
    "#### 8. Remove the images at the boundary (Check if this is correct)"
   ]
  },
  {
   "cell_type": "code",
   "execution_count": 70,
   "metadata": {},
   "outputs": [],
   "source": [
    "percentile_closest = 95\n",
    "\n",
    "X_cluster_dist = X_digits_dist[np.arange(len(X_train)), kmeans.labels_]\n",
    "for i in range(k):\n",
    "    in_cluster = (kmeans.labels_ == i)\n",
    "    cluster_dist = X_cluster_dist[in_cluster]\n",
    "    cutoff_distance = np.percentile(cluster_dist, percentile_closest)\n",
    "    above_cutoff = (X_cluster_dist > cutoff_distance)\n",
    "    X_cluster_dist[in_cluster & above_cutoff] = -1"
   ]
  },
  {
   "cell_type": "code",
   "execution_count": 71,
   "metadata": {},
   "outputs": [],
   "source": [
    "partially_propagated = (X_cluster_dist != -1)\n",
    "X_train_partially_propagated = X_train[partially_propagated]\n",
    "y_train_partially_propagated = y_train_propogated[partially_propagated]"
   ]
  },
  {
   "cell_type": "code",
   "execution_count": 72,
   "metadata": {},
   "outputs": [
    {
     "data": {
      "text/plain": [
       "LogisticRegression(max_iter=5000, multi_class='ovr', random_state=42)"
      ]
     },
     "execution_count": 72,
     "metadata": {},
     "output_type": "execute_result"
    }
   ],
   "source": [
    "log_reg = LogisticRegression(multi_class=\"ovr\", solver=\"lbfgs\", max_iter=5000, random_state=42)\n",
    "log_reg.fit(X_train_partially_propagated, y_train_partially_propagated)"
   ]
  },
  {
   "cell_type": "code",
   "execution_count": 73,
   "metadata": {},
   "outputs": [
    {
     "data": {
      "text/plain": [
       "0.20666666666666667"
      ]
     },
     "execution_count": 73,
     "metadata": {},
     "output_type": "execute_result"
    }
   ],
   "source": [
    "log_reg.score(X_test, y_test)"
   ]
  },
  {
   "cell_type": "code",
   "execution_count": null,
   "metadata": {},
   "outputs": [],
   "source": []
  }
 ],
 "metadata": {
  "kernelspec": {
   "display_name": "Python 3",
   "language": "python",
   "name": "python3"
  },
  "language_info": {
   "codemirror_mode": {
    "name": "ipython",
    "version": 3
   },
   "file_extension": ".py",
   "mimetype": "text/x-python",
   "name": "python",
   "nbconvert_exporter": "python",
   "pygments_lexer": "ipython3",
   "version": "3.7.9"
  }
 },
 "nbformat": 4,
 "nbformat_minor": 2
}
